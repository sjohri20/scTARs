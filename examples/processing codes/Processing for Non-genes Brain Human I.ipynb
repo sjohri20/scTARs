{
 "cells": [
  {
   "cell_type": "code",
   "execution_count": 1,
   "metadata": {},
   "outputs": [],
   "source": [
    "import pysam\n",
    "import pandas as pd\n",
    "from tqdm.auto import tqdm\n",
    "import numpy as np\n",
    "import itertools"
   ]
  },
  {
   "cell_type": "code",
   "execution_count": 2,
   "metadata": {},
   "outputs": [],
   "source": [
    "bam_file = \"/home/dbeb/btech/bb1160039/scratch/project/295_possorted_genome_bam.bam\"\n",
    "bai_file = \"/home/dbeb/btech/bb1160039/scratch/project/295_possorted_genome_bam.bam.bai\""
   ]
  },
  {
   "cell_type": "code",
   "execution_count": 3,
   "metadata": {},
   "outputs": [],
   "source": [
    "samf = pysam.Samfile(bam_file, \"rb\")\n",
    "replicon_dict = dict([[replicon, {'seq_start_pos': 0,'seq_end_pos': length}] for replicon, length in zip(samf.references, samf.lengths)])"
   ]
  },
  {
   "cell_type": "code",
   "execution_count": 4,
   "metadata": {},
   "outputs": [
    {
     "name": "stdout",
     "output_type": "stream",
     "text": [
      "0\n",
      "248956422\n"
     ]
    }
   ],
   "source": [
    "print(replicon_dict['1']['seq_start_pos'])\n",
    "print(replicon_dict['1']['seq_end_pos'])"
   ]
  },
  {
   "cell_type": "code",
   "execution_count": 5,
   "metadata": {},
   "outputs": [],
   "source": [
    "samfile = pysam.AlignmentFile(bam_file, \"rb\", index_filename = bai_file)"
   ]
  },
  {
   "cell_type": "code",
   "execution_count": 6,
   "metadata": {},
   "outputs": [
    {
     "data": {
      "application/vnd.jupyter.widget-view+json": {
       "model_id": "53739860162c4da8bd45c15bb6e719d1",
       "version_major": 2,
       "version_minor": 0
      },
      "text/plain": [
       "HBox(children=(FloatProgress(value=0.0, max=24.0), HTML(value='')))"
      ]
     },
     "metadata": {},
     "output_type": "display_data"
    },
    {
     "name": "stdout",
     "output_type": "stream",
     "text": [
      "\n"
     ]
    }
   ],
   "source": [
    "#read all non-genes\n",
    "# x=['1','2','3','4','5','6','7','8','9','10','11','12','13','14','15','16','17','18','19','X','Y']\n",
    "x=['1','2','3','4','5','6','7','8','9','10','11','12','13','14','15','16','17','18','19','20','21','22','X','Y']\n",
    "\n",
    "list_tags_all = []\n",
    "for i in tqdm(range(0,len(x))):\n",
    "    count=0\n",
    "    for read in samfile.fetch(x[i],replicon_dict[x[i]]['seq_start_pos'],replicon_dict[x[i]]['seq_end_pos']):\n",
    "        try:\n",
    "            if (read.has_tag(\"GX\")==False and read.get_tag(\"NH\")==1):\n",
    "                list_tags_all.append([read.get_tag(\"CB\"),read.get_tag(\"UB\"),str(\"gene\" + \"-\" + str(read.reference_name) + \"-\" +str(read.get_reference_positions()[0])+'-'+ str(len(read.get_reference_positions())))])\n",
    "        except KeyError:\n",
    "            continue"
   ]
  },
  {
   "cell_type": "code",
   "execution_count": 7,
   "metadata": {},
   "outputs": [
    {
     "name": "stdout",
     "output_type": "stream",
     "text": [
      "CPU times: user 37.2 s, sys: 25.1 s, total: 1min 2s\n",
      "Wall time: 8min 51s\n"
     ]
    }
   ],
   "source": [
    "%%time\n",
    "list_tags_all_rm_dup = list(list_tags_all for list_tags_all,_ in itertools.groupby(list_tags_all))"
   ]
  },
  {
   "cell_type": "code",
   "execution_count": 8,
   "metadata": {},
   "outputs": [
    {
     "name": "stdout",
     "output_type": "stream",
     "text": [
      "164012978\n",
      "153557752\n"
     ]
    }
   ],
   "source": [
    "print(len(list_tags_all))\n",
    "print(len(list_tags_all_rm_dup))"
   ]
  },
  {
   "cell_type": "code",
   "execution_count": 9,
   "metadata": {},
   "outputs": [
    {
     "data": {
      "application/vnd.jupyter.widget-view+json": {
       "model_id": "a140091afce543fe9596689ef1a897e9",
       "version_major": 2,
       "version_minor": 0
      },
      "text/plain": [
       "HBox(children=(FloatProgress(value=0.0, max=153557751.0), HTML(value='')))"
      ]
     },
     "metadata": {},
     "output_type": "display_data"
    },
    {
     "name": "stdout",
     "output_type": "stream",
     "text": [
      "\n"
     ]
    }
   ],
   "source": [
    "start=0\n",
    "val=int(list_tags_all_rm_dup[start][2].split(\"-\")[2])\n",
    "\n",
    "for i in tqdm(range(1,len(list_tags_all_rm_dup))):\n",
    "    if (int(list_tags_all_rm_dup[i][2].split(\"-\")[2]) - val>50):\n",
    "        if i-start>1:\n",
    "            #update the inner elements\n",
    "            for inner in list_tags_all_rm_dup[start:i]:\n",
    "                inner[2] = list_tags_all_rm_dup[start][2]\n",
    "        #update start to point to this pos\n",
    "        start = i\n",
    "        #update val to the val at this pos\n",
    "        val = int(list_tags_all_rm_dup[i][2].split(\"-\")[2])"
   ]
  },
  {
   "cell_type": "code",
   "execution_count": 10,
   "metadata": {},
   "outputs": [
    {
     "name": "stdout",
     "output_type": "stream",
     "text": [
      "CPU times: user 37.4 s, sys: 25.9 s, total: 1min 3s\n",
      "Wall time: 15min 56s\n"
     ]
    }
   ],
   "source": [
    "%%time\n",
    "list_tags_all_rm_dup_final = list(list_tags_all_rm_dup for list_tags_all_rm_dup,_ in itertools.groupby(list_tags_all_rm_dup))"
   ]
  },
  {
   "cell_type": "code",
   "execution_count": 11,
   "metadata": {},
   "outputs": [
    {
     "data": {
      "text/plain": [
       "153157563"
      ]
     },
     "execution_count": 11,
     "metadata": {},
     "output_type": "execute_result"
    }
   ],
   "source": [
    "n=len(list_tags_all_rm_dup_final)\n",
    "n"
   ]
  },
  {
   "cell_type": "code",
   "execution_count": 12,
   "metadata": {},
   "outputs": [
    {
     "name": "stdout",
     "output_type": "stream",
     "text": [
      "CPU times: user 1min 23s, sys: 26.9 s, total: 1min 50s\n",
      "Wall time: 2min 2s\n"
     ]
    }
   ],
   "source": [
    "%%time\n",
    "df_all_p1 = pd.DataFrame(list_tags_all_rm_dup_final[:int(n/20)], columns=[\"celltag\",\"moltag\",\"pseudoname\"])\n",
    "df_all_p2 = pd.DataFrame(list_tags_all_rm_dup_final[int(n/20):int(2*n/20)], columns=[\"celltag\",\"moltag\",\"pseudoname\"])\n",
    "df_all_p3 = pd.DataFrame(list_tags_all_rm_dup_final[int(2*n/20):int(3*n/20)], columns=[\"celltag\",\"moltag\",\"pseudoname\"])\n",
    "df_all_p4 = pd.DataFrame(list_tags_all_rm_dup_final[int(3*n/20):int(4*n/20)], columns=[\"celltag\",\"moltag\",\"pseudoname\"])\n",
    "df_all_p5 = pd.DataFrame(list_tags_all_rm_dup_final[int(4*n/20):int(5*n/20)], columns=[\"celltag\",\"moltag\",\"pseudoname\"])\n",
    "df_all_p6 = pd.DataFrame(list_tags_all_rm_dup_final[int(5*n/20):int(6*n/20)], columns=[\"celltag\",\"moltag\",\"pseudoname\"])\n",
    "df_all_p7 = pd.DataFrame(list_tags_all_rm_dup_final[int(6*n/20):int(7*n/20)], columns=[\"celltag\",\"moltag\",\"pseudoname\"])\n",
    "df_all_p8 = pd.DataFrame(list_tags_all_rm_dup_final[int(7*n/20):int(8*n/20)], columns=[\"celltag\",\"moltag\",\"pseudoname\"])\n",
    "df_all_p9 = pd.DataFrame(list_tags_all_rm_dup_final[int(8*n/20):int(9*n/20)], columns=[\"celltag\",\"moltag\",\"pseudoname\"])\n",
    "df_all_p10 = pd.DataFrame(list_tags_all_rm_dup_final[int(9*n/20):int(10*n/20)], columns=[\"celltag\",\"moltag\",\"pseudoname\"])\n",
    "df_all_p11 = pd.DataFrame(list_tags_all_rm_dup_final[int(10*n/20):int(11*n/20)], columns=[\"celltag\",\"moltag\",\"pseudoname\"])\n",
    "df_all_p12 = pd.DataFrame(list_tags_all_rm_dup_final[int(11*n/20):int(12*n/20)], columns=[\"celltag\",\"moltag\",\"pseudoname\"])\n",
    "df_all_p13 = pd.DataFrame(list_tags_all_rm_dup_final[int(12*n/20):int(13*n/20)], columns=[\"celltag\",\"moltag\",\"pseudoname\"])\n",
    "df_all_p14 = pd.DataFrame(list_tags_all_rm_dup_final[int(13*n/20):int(14*n/20)], columns=[\"celltag\",\"moltag\",\"pseudoname\"])\n",
    "df_all_p15 = pd.DataFrame(list_tags_all_rm_dup_final[int(14*n/20):int(15*n/20)], columns=[\"celltag\",\"moltag\",\"pseudoname\"])\n",
    "df_all_p16 = pd.DataFrame(list_tags_all_rm_dup_final[int(15*n/20):int(16*n/20)], columns=[\"celltag\",\"moltag\",\"pseudoname\"])\n",
    "df_all_p17 = pd.DataFrame(list_tags_all_rm_dup_final[int(16*n/20):int(17*n/20)], columns=[\"celltag\",\"moltag\",\"pseudoname\"])\n",
    "df_all_p18 = pd.DataFrame(list_tags_all_rm_dup_final[int(17*n/20):int(18*n/20)], columns=[\"celltag\",\"moltag\",\"pseudoname\"])\n",
    "df_all_p19 = pd.DataFrame(list_tags_all_rm_dup_final[int(18*n/20):int(19*n/20)], columns=[\"celltag\",\"moltag\",\"pseudoname\"])\n",
    "df_all_p20 = pd.DataFrame(list_tags_all_rm_dup_final[int(19*n/20):], columns=[\"celltag\",\"moltag\",\"pseudoname\"])"
   ]
  },
  {
   "cell_type": "code",
   "execution_count": 13,
   "metadata": {},
   "outputs": [
    {
     "name": "stdout",
     "output_type": "stream",
     "text": [
      "CPU times: user 4min 14s, sys: 35.2 s, total: 4min 49s\n",
      "Wall time: 9min 4s\n"
     ]
    }
   ],
   "source": [
    "%%time\n",
    "c1 = df_all_p1['celltag'].value_counts()\n",
    "c2 = df_all_p2['celltag'].value_counts()\n",
    "c3 = df_all_p3['celltag'].value_counts()\n",
    "c4 = df_all_p4['celltag'].value_counts()\n",
    "c5 = df_all_p5['celltag'].value_counts()\n",
    "c6 = df_all_p6['celltag'].value_counts()\n",
    "c7 = df_all_p7['celltag'].value_counts()\n",
    "c8 = df_all_p8['celltag'].value_counts()\n",
    "c9 = df_all_p9['celltag'].value_counts()\n",
    "c10 = df_all_p10['celltag'].value_counts()\n",
    "c11 = df_all_p11['celltag'].value_counts()\n",
    "c12 = df_all_p12['celltag'].value_counts()\n",
    "c13 = df_all_p13['celltag'].value_counts()\n",
    "c14 = df_all_p14['celltag'].value_counts()\n",
    "c15 = df_all_p15['celltag'].value_counts()\n",
    "c16 = df_all_p11['celltag'].value_counts()\n",
    "c17 = df_all_p12['celltag'].value_counts()\n",
    "c18 = df_all_p13['celltag'].value_counts()\n",
    "c19 = df_all_p14['celltag'].value_counts()\n",
    "c20 = df_all_p15['celltag'].value_counts()\n",
    "c111 = df_all_p1['pseudoname'].value_counts()\n",
    "c22 = df_all_p2['pseudoname'].value_counts()\n",
    "c33 = df_all_p3['pseudoname'].value_counts()\n",
    "c44 = df_all_p4['pseudoname'].value_counts()\n",
    "c55 = df_all_p5['pseudoname'].value_counts()\n",
    "c66 = df_all_p6['pseudoname'].value_counts()\n",
    "c77 = df_all_p7['pseudoname'].value_counts()\n",
    "c88 = df_all_p8['pseudoname'].value_counts()\n",
    "c99 = df_all_p9['pseudoname'].value_counts()\n",
    "c1010 = df_all_p10['pseudoname'].value_counts()\n",
    "c1111 = df_all_p11['pseudoname'].value_counts()\n",
    "c1212 = df_all_p12['pseudoname'].value_counts()\n",
    "c1313 = df_all_p13['pseudoname'].value_counts()\n",
    "c1414 = df_all_p14['pseudoname'].value_counts()\n",
    "c1515 = df_all_p15['pseudoname'].value_counts()\n",
    "c1616 = df_all_p16['pseudoname'].value_counts()\n",
    "c1717 = df_all_p17['pseudoname'].value_counts()\n",
    "c1818 = df_all_p18['pseudoname'].value_counts()\n",
    "c1919 = df_all_p19['pseudoname'].value_counts()\n",
    "c2020 = df_all_p20['pseudoname'].value_counts()"
   ]
  },
  {
   "cell_type": "code",
   "execution_count": null,
   "metadata": {},
   "outputs": [],
   "source": [
    "%time\n",
    "df_all_p1_subset = df_all_p1[df_all_p1[\"celltag\"].isin(c1[c1>20].index)]\n",
    "df_all_p1_subset = df_all_p1_subset[df_all_p1_subset[\"pseudoname\"].isin(c111[c111>20].index)]\n",
    "df_all_p2_subset = df_all_p2[df_all_p2[\"celltag\"].isin(c2[c2>20].index)]\n",
    "df_all_p2_subset = df_all_p2_subset[df_all_p2_subset[\"pseudoname\"].isin(c22[c22>20].index)]\n",
    "df_all_p3_subset = df_all_p3[df_all_p3[\"celltag\"].isin(c3[c3>20].index)]\n",
    "df_all_p3_subset = df_all_p3_subset[df_all_p3_subset[\"pseudoname\"].isin(c33[c33>20].index)]\n",
    "df_all_p4_subset = df_all_p4[df_all_p4[\"celltag\"].isin(c4[c4>20].index)]\n",
    "df_all_p4_subset = df_all_p4_subset[df_all_p4_subset[\"pseudoname\"].isin(c44[c44>20].index)]\n",
    "df_all_p5_subset = df_all_p5[df_all_p5[\"celltag\"].isin(c5[c5>20].index)]\n",
    "df_all_p5_subset = df_all_p5_subset[df_all_p5_subset[\"pseudoname\"].isin(c55[c55>20].index)]\n",
    "df_all_p6_subset = df_all_p6[df_all_p6[\"celltag\"].isin(c6[c6>20].index)]\n",
    "df_all_p6_subset = df_all_p6_subset[df_all_p6_subset[\"pseudoname\"].isin(c66[c66>20].index)]\n",
    "df_all_p7_subset = df_all_p7[df_all_p7[\"celltag\"].isin(c7[c7>20].index)]\n",
    "df_all_p7_subset = df_all_p7_subset[df_all_p7_subset[\"pseudoname\"].isin(c77[c77>20].index)]\n",
    "df_all_p8_subset = df_all_p8[df_all_p8[\"celltag\"].isin(c8[c8>20].index)]\n",
    "df_all_p8_subset = df_all_p8_subset[df_all_p8_subset[\"pseudoname\"].isin(c88[c88>20].index)]\n",
    "df_all_p9_subset = df_all_p9[df_all_p9[\"celltag\"].isin(c9[c9>20].index)]\n",
    "df_all_p9_subset = df_all_p9_subset[df_all_p9_subset[\"pseudoname\"].isin(c99[c99>20].index)]\n",
    "df_all_p10_subset = df_all_p10[df_all_p10[\"celltag\"].isin(c10[c10>20].index)]\n",
    "df_all_p10_subset = df_all_p10_subset[df_all_p10_subset[\"pseudoname\"].isin(c1010[c1010>20].index)]\n",
    "df_all_p11_subset = df_all_p11[df_all_p11[\"celltag\"].isin(c11[c11>20].index)]\n",
    "df_all_p11_subset = df_all_p11_subset[df_all_p11_subset[\"pseudoname\"].isin(c1111[c1111>20].index)]\n",
    "df_all_p12_subset = df_all_p12[df_all_p12[\"celltag\"].isin(c12[c12>20].index)]\n",
    "df_all_p12_subset = df_all_p12_subset[df_all_p12_subset[\"pseudoname\"].isin(c1212[c1212>20].index)]\n",
    "df_all_p13_subset = df_all_p13[df_all_p13[\"celltag\"].isin(c13[c13>20].index)]\n",
    "df_all_p13_subset = df_all_p13_subset[df_all_p13_subset[\"pseudoname\"].isin(c1313[c1313>20].index)]\n",
    "df_all_p14_subset = df_all_p14[df_all_p14[\"celltag\"].isin(c14[c14>20].index)]\n",
    "df_all_p14_subset = df_all_p14_subset[df_all_p14_subset[\"pseudoname\"].isin(c1414[c1414>20].index)]\n",
    "df_all_p15_subset = df_all_p15[df_all_p15[\"celltag\"].isin(c15[c15>20].index)]\n",
    "df_all_p15_subset = df_all_p15_subset[df_all_p15_subset[\"pseudoname\"].isin(c1515[c1515>20].index)]\n",
    "df_all_p16_subset = df_all_p16[df_all_p16[\"celltag\"].isin(c16[c16>20].index)]\n",
    "df_all_p16_subset = df_all_p16_subset[df_all_p16_subset[\"pseudoname\"].isin(c1616[c1616>20].index)]\n",
    "df_all_p17_subset = df_all_p17[df_all_p17[\"celltag\"].isin(c17[c17>20].index)]\n",
    "df_all_p17_subset = df_all_p17_subset[df_all_p17_subset[\"pseudoname\"].isin(c1717[c1717>20].index)]\n",
    "df_all_p18_subset = df_all_p18[df_all_p18[\"celltag\"].isin(c18[c18>20].index)]\n",
    "df_all_p18_subset = df_all_p18_subset[df_all_p18_subset[\"pseudoname\"].isin(c1818[c1818>20].index)]\n",
    "df_all_p19_subset = df_all_p19[df_all_p19[\"celltag\"].isin(c19[c19>20].index)]\n",
    "df_all_p19_subset = df_all_p19_subset[df_all_p19_subset[\"pseudoname\"].isin(c1919[c1919>20].index)]\n",
    "df_all_p20_subset = df_all_p20[df_all_p20[\"celltag\"].isin(c20[c20>20].index)]\n",
    "df_all_p20_subset = df_all_p20_subset[df_all_p20_subset[\"pseudoname\"].isin(c2020[c2020>20].index)]"
   ]
  },
  {
   "cell_type": "code",
   "execution_count": null,
   "metadata": {},
   "outputs": [],
   "source": [
    "%%time\n",
    "counts_p1=df_all_p1_subset.groupby(['pseudoname','celltag']).size().unstack('celltag', fill_value=0)\n",
    "counts_p2=df_all_p2_subset.groupby(['pseudoname','celltag']).size().unstack('celltag', fill_value=0)\n",
    "counts_p3=df_all_p3_subset.groupby(['pseudoname','celltag']).size().unstack('celltag', fill_value=0)\n",
    "counts_p4=df_all_p4_subset.groupby(['pseudoname','celltag']).size().unstack('celltag', fill_value=0)\n",
    "counts_p5=df_all_p5_subset.groupby(['pseudoname','celltag']).size().unstack('celltag', fill_value=0)\n",
    "counts_p6=df_all_p6_subset.groupby(['pseudoname','celltag']).size().unstack('celltag', fill_value=0)\n",
    "counts_p7=df_all_p7_subset.groupby(['pseudoname','celltag']).size().unstack('celltag', fill_value=0)\n",
    "counts_p8=df_all_p8_subset.groupby(['pseudoname','celltag']).size().unstack('celltag', fill_value=0)\n",
    "counts_p9=df_all_p9_subset.groupby(['pseudoname','celltag']).size().unstack('celltag', fill_value=0)\n",
    "counts_p10=df_all_p10_subset.groupby(['pseudoname','celltag']).size().unstack('celltag', fill_value=0)\n",
    "counts_p11=df_all_p11_subset.groupby(['pseudoname','celltag']).size().unstack('celltag', fill_value=0)\n",
    "counts_p12=df_all_p12_subset.groupby(['pseudoname','celltag']).size().unstack('celltag', fill_value=0)\n",
    "counts_p13=df_all_p13_subset.groupby(['pseudoname','celltag']).size().unstack('celltag', fill_value=0)\n",
    "counts_p14=df_all_p14_subset.groupby(['pseudoname','celltag']).size().unstack('celltag', fill_value=0)\n",
    "counts_p15=df_all_p15_subset.groupby(['pseudoname','celltag']).size().unstack('celltag', fill_value=0)\n",
    "counts_p16=df_all_p11_subset.groupby(['pseudoname','celltag']).size().unstack('celltag', fill_value=0)\n",
    "counts_p17=df_all_p12_subset.groupby(['pseudoname','celltag']).size().unstack('celltag', fill_value=0)\n",
    "counts_p18=df_all_p13_subset.groupby(['pseudoname','celltag']).size().unstack('celltag', fill_value=0)\n",
    "counts_p19=df_all_p14_subset.groupby(['pseudoname','celltag']).size().unstack('celltag', fill_value=0)\n",
    "counts_p20=df_all_p15_subset.groupby(['pseudoname','celltag']).size().unstack('celltag', fill_value=0)"
   ]
  },
  {
   "cell_type": "code",
   "execution_count": 16,
   "metadata": {},
   "outputs": [],
   "source": [
    "cell_bcode=set(counts_p1.columns).intersection(set(counts_p2.columns)).intersection(set(counts_p3.columns)).intersection(set(counts_p4.columns)).intersection(set(counts_p5.columns)).intersection(set(counts_p6.columns)).intersection(set(counts_p7.columns)).intersection(set(counts_p8.columns)).intersection(set(counts_p9.columns)).intersection(set(counts_p10.columns)).intersection(set(counts_p11.columns)).intersection(set(counts_p12.columns)).intersection(set(counts_p13.columns)).intersection(set(counts_p14.columns)).intersection(set(counts_p15.columns)).intersection(set(counts_p16.columns)).intersection(set(counts_p17.columns)).intersection(set(counts_p18.columns)).intersection(set(counts_p19.columns)).intersection(set(counts_p20.columns))"
   ]
  },
  {
   "cell_type": "code",
   "execution_count": 17,
   "metadata": {},
   "outputs": [
    {
     "name": "stdout",
     "output_type": "stream",
     "text": [
      "CPU times: user 9.8 s, sys: 6.27 s, total: 16.1 s\n",
      "Wall time: 16 s\n"
     ]
    }
   ],
   "source": [
    "%%time\n",
    "counts_p1 = counts_p1[cell_bcode]\n",
    "counts_p2 = counts_p2[cell_bcode]\n",
    "counts_p3 = counts_p3[cell_bcode]\n",
    "counts_p4 = counts_p4[cell_bcode]\n",
    "counts_p5 = counts_p5[cell_bcode]\n",
    "counts_p6 = counts_p6[cell_bcode]\n",
    "counts_p7 = counts_p7[cell_bcode]\n",
    "counts_p8 = counts_p8[cell_bcode]\n",
    "counts_p9 = counts_p9[cell_bcode]\n",
    "counts_p10 = counts_p10[cell_bcode]\n",
    "counts_p11 = counts_p11[cell_bcode]\n",
    "counts_p12 = counts_p12[cell_bcode]\n",
    "counts_p13 = counts_p13[cell_bcode]\n",
    "counts_p14 = counts_p14[cell_bcode]\n",
    "counts_p15 = counts_p15[cell_bcode]\n",
    "counts_p16 = counts_p16[cell_bcode]\n",
    "counts_p17 = counts_p17[cell_bcode]\n",
    "counts_p18 = counts_p18[cell_bcode]\n",
    "counts_p19 = counts_p19[cell_bcode]\n",
    "counts_p20 = counts_p20[cell_bcode]"
   ]
  },
  {
   "cell_type": "code",
   "execution_count": 18,
   "metadata": {},
   "outputs": [
    {
     "name": "stdout",
     "output_type": "stream",
     "text": [
      "CPU times: user 5.82 s, sys: 6.02 s, total: 11.8 s\n",
      "Wall time: 11.8 s\n"
     ]
    }
   ],
   "source": [
    "%%time\n",
    "counts_full = pd.concat([counts_p1,counts_p2, counts_p3, counts_p4, counts_p5, counts_p6, counts_p7, counts_p8, counts_p9, counts_p10, counts_p11,counts_p12, counts_p13, counts_p14, counts_p15, counts_p16, counts_p17, counts_p18, counts_p19, counts_p20])"
   ]
  },
  {
   "cell_type": "code",
   "execution_count": 19,
   "metadata": {},
   "outputs": [],
   "source": [
    "# counts_full.to_csv(\"/home/dbeb/btech/bb1160039/scratch/project/counts_non_genes_pbmc_10k_rmmulti.csv\")"
   ]
  }
 ],
 "metadata": {
  "kernelspec": {
   "display_name": "Python 3",
   "language": "python",
   "name": "python3"
  },
  "language_info": {
   "codemirror_mode": {
    "name": "ipython",
    "version": 3
   },
   "file_extension": ".py",
   "mimetype": "text/x-python",
   "name": "python",
   "nbconvert_exporter": "python",
   "pygments_lexer": "ipython3",
   "version": "3.6.7"
  }
 },
 "nbformat": 4,
 "nbformat_minor": 4
}
