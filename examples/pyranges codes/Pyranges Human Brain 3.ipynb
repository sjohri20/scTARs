{
 "cells": [
  {
   "cell_type": "code",
   "execution_count": 1,
   "metadata": {},
   "outputs": [],
   "source": [
    "import pandas as pd\n",
    "import numpy as np\n",
    "import pyranges\n",
    "from gtfparse import read_gtf\n",
    "import matplotlib.pyplot as plt\n",
    "import colorsys"
   ]
  },
  {
   "cell_type": "code",
   "execution_count": null,
   "metadata": {},
   "outputs": [],
   "source": [
    "#read all files\n",
    "df_nongenes = pd.read_csv(\"/home/dbeb/btech/bb1160039/scratch/project/rmmulti/Human Brain/counts_non_genes_brain_human_3_rmmulti.csv\", index_col=0)\n",
    "df_gtf = read_gtf(\"/home/dbeb/btech/bb1160039/scratch/project/gencode.v34.annotation.gtf\")"
   ]
  },
  {
   "cell_type": "code",
   "execution_count": null,
   "metadata": {},
   "outputs": [],
   "source": [
    "#creating pyranges object for non-genes\n",
    "l_se_name = []\n",
    "l_se_chr = []\n",
    "l_se_start = []\n",
    "l_se_end = []\n",
    "for x in df_nongenes.index:\n",
    "    l_se_name.append(x)\n",
    "    l_se_chr.append(\"chr\"+x.split(\"-\")[1])\n",
    "    l_se_start.append(x.split(\"-\")[2])\n",
    "    l_se_end.append(str(int(x.split(\"-\")[2])+int(x.split(\"-\")[3])))\n",
    "    \n",
    "dict_ngenes= {\"Chromosome\":l_se_chr,\"Start\": l_se_start,\"End\": l_se_end,\"Name\":l_se_name}\n",
    "py_ng=pyranges.from_dict(dict_ngenes)\n",
    "py_ng"
   ]
  },
  {
   "cell_type": "code",
   "execution_count": null,
   "metadata": {},
   "outputs": [],
   "source": [
    "#creating pyranges object for genes\n",
    "df_genes = df_gtf[df_gtf[\"feature\"] == \"gene\"]"
   ]
  },
  {
   "cell_type": "code",
   "execution_count": null,
   "metadata": {},
   "outputs": [],
   "source": [
    "gene_type=df_genes.gene_type.value_counts().index\n",
    "interval = [0,10,20,50,100,500,1000,5000,10000,50000,100000]\n",
    "overlaps_forward=[]\n",
    "overlaps_back=[]\n",
    "for gtype in gene_type:\n",
    "    df_type = df_genes[df_genes.gene_type==gtype]\n",
    "    for i in interval:\n",
    "        dict_type_forward ={\"Chromosome\":df_type.seqname,\"Start\":df_type.start,\"End\":df_type.end+i}\n",
    "        py_gg_forward = pyranges.from_dict(dict_type_forward)\n",
    "        overlap_forward=py_ng.count_overlaps(py_gg_forward).as_df()\n",
    "        overlaps_forward.append([str(gtype+\"-\"+str(i)),len(list(overlap_forward[overlap_forward.NumberOverlaps>0].Name))])\n",
    "        dict_type_back ={\"Chromosome\":df_type.seqname,\"Start\":df_type.start-i,\"End\":df_type.end}\n",
    "        py_gg_back = pyranges.from_dict(dict_type_back)\n",
    "        overlap_back=py_ng.count_overlaps(py_gg_back).as_df()\n",
    "        overlaps_back.append([str(gtype+\"-\"+str(i)),len(list(overlap_back[overlap_back.NumberOverlaps>0].Name))])"
   ]
  },
  {
   "cell_type": "code",
   "execution_count": null,
   "metadata": {},
   "outputs": [],
   "source": [
    "ae = [element * len(interval) for element in list(range(0,len(gene_type)))]\n",
    "x_ax_for=[]\n",
    "y_ax_for=[]\n",
    "x_ax_back=[]\n",
    "y_ax_back=[]\n",
    "n_ax=[]\n",
    "for a in ae:\n",
    "    x1=[]\n",
    "    y1=[]\n",
    "    x2=[]\n",
    "    y2=[]\n",
    "    for i in range(a,a+11):\n",
    "        x1.append(-int(overlaps_back[i][0].split(\"-\")[1]))\n",
    "        y1.append(int(overlaps_back[i][1]))\n",
    "        x2.append(int(overlaps_forward[i][0].split(\"-\")[1]))\n",
    "        y2.append(int(overlaps_forward[i][1]))\n",
    "    x_ax_for.append(x1)\n",
    "    y_ax_for.append(y1)\n",
    "    x_ax_back.append(x2)\n",
    "    y_ax_back.append(y2)\n",
    "    n_ax.append(overlaps_back[a][0].split(\"-\")[0])"
   ]
  },
  {
   "cell_type": "code",
   "execution_count": 11,
   "metadata": {},
   "outputs": [],
   "source": [
    "N = len(n_ax)\n",
    "HSV_tuples = [(x*1.0/10, 0.5, 0.5) for x in range(N)]\n",
    "RGB_tuples = list(map(lambda x: colorsys.hsv_to_rgb(*x), HSV_tuples))"
   ]
  },
  {
   "cell_type": "code",
   "execution_count": null,
   "metadata": {},
   "outputs": [],
   "source": [
    "gene_type"
   ]
  },
  {
   "cell_type": "code",
   "execution_count": null,
   "metadata": {},
   "outputs": [],
   "source": [
    "fig, axs = plt.subplots(1,3,figsize = (15, 5))\n",
    "axs[0].plot(x_ax_for[0],y_ax_for[0],label=n_ax[0],linestyle='--', marker='o', color=RGB_tuples[0])\n",
    "axs[0].plot(x_ax_back[0],y_ax_back[0],label=n_ax[0],linestyle='--', marker='o', color=RGB_tuples[0])\n",
    "for i in range(1,10):\n",
    "    axs[1].plot(x_ax_for[i],y_ax_for[i],label=n_ax[i],linestyle='--', marker='o', color=RGB_tuples[i])\n",
    "    axs[1].plot(x_ax_back[i],y_ax_back[i],label=n_ax[i],linestyle='--', marker='o', color=RGB_tuples[i])\n",
    "for i in range(0,10):\n",
    "    axs[2].plot(x_ax_for[i],y_ax_for[i],label=n_ax[i],linestyle='--', marker='o', color=RGB_tuples[i])\n",
    "    axs[2].plot(x_ax_back[i],y_ax_back[i],label=n_ax[i],linestyle='--', marker='o', color=RGB_tuples[i])\n",
    "axs[2].legend(loc='center left', bbox_to_anchor=(1,0.5))\n",
    "fig.suptitle('Metagene Plots by gene types', fontsize=16);"
   ]
  },
  {
   "cell_type": "code",
   "execution_count": 7,
   "metadata": {},
   "outputs": [],
   "source": [
    "# Check overlap intervals\n",
    "dict_genes={\"Chromosome\":df_genes.seqname,\"Start\":df_genes.start,\"End\":df_genes.end}\n",
    "py_gg = pyranges.from_dict(dict_genes)\n",
    "py_gg\n",
    "overlaps=py_ng.count_overlaps(py_gg).as_df()"
   ]
  },
  {
   "cell_type": "code",
   "execution_count": 97,
   "metadata": {},
   "outputs": [],
   "source": [
    "chr1_coexp = list(overlaps[overlaps.NumberOverlaps>0].Name)"
   ]
  },
  {
   "cell_type": "code",
   "execution_count": 84,
   "metadata": {},
   "outputs": [],
   "source": [
    "markers = pd.read_csv(\"marker_neurons.csv\", header=None, names=[\"genes\"])"
   ]
  },
  {
   "cell_type": "code",
   "execution_count": 99,
   "metadata": {},
   "outputs": [],
   "source": [
    "com=set(chr1_coexp).intersection(markers.genes)"
   ]
  },
  {
   "cell_type": "code",
   "execution_count": 100,
   "metadata": {},
   "outputs": [],
   "source": [
    "chrs=[]\n",
    "for x in com:\n",
    "    chrs.append(x.split(\"-\")[1])"
   ]
  },
  {
   "cell_type": "code",
   "execution_count": 101,
   "metadata": {},
   "outputs": [],
   "source": [
    "heights=list(pd.DataFrame(chrs, columns=[\"chr\"]).chr.value_counts())\n",
    "labels=pd.DataFrame(chrs, columns=[\"chr\"]).chr.value_counts().index"
   ]
  },
  {
   "cell_type": "code",
   "execution_count": 102,
   "metadata": {
    "collapsed": true
   },
   "outputs": [
    {
     "data": {
      "text/plain": [
       "<BarContainer object of 20 artists>"
      ]
     },
     "execution_count": 102,
     "metadata": {},
     "output_type": "execute_result"
    },
    {
     "data": {
      "image/png": "[encoded data removed]",
      "text/plain": [
       "<Figure size 432x288 with 1 Axes>"
      ]
     },
     "metadata": {
      "needs_background": "light"
     },
     "output_type": "display_data"
    }
   ],
   "source": [
    "plt.bar(x=labels, height=heights)"
   ]
  },
  {
   "cell_type": "code",
   "execution_count": 103,
   "metadata": {},
   "outputs": [
    {
     "data": {
      "text/plain": [
       "1223"
      ]
     },
     "execution_count": 103,
     "metadata": {},
     "output_type": "execute_result"
    }
   ],
   "source": [
    "len(chrs)"
   ]
  },
  {
   "cell_type": "code",
   "execution_count": null,
   "metadata": {},
   "outputs": [],
   "source": [
    "f=open('f1.txt','w')\n",
    "for ele in l1:\n",
    "    f.write(ele+'\\n')"
   ]
  }
 ],
 "metadata": {
  "kernelspec": {
   "display_name": "Python 3",
   "language": "python",
   "name": "python3"
  },
  "language_info": {
   "codemirror_mode": {
    "name": "ipython",
    "version": 3
   },
   "file_extension": ".py",
   "mimetype": "text/x-python",
   "name": "python",
   "nbconvert_exporter": "python",
   "pygments_lexer": "ipython3",
   "version": "3.6.7"
  }
 },
 "nbformat": 4,
 "nbformat_minor": 4
}
