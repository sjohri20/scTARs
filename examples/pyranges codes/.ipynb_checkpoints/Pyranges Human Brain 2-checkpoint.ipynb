{
 "cells": [
  {
   "cell_type": "code",
   "execution_count": 1,
   "metadata": {},
   "outputs": [],
   "source": [
    "import pandas as pd\n",
    "import numpy as np\n",
    "import pyranges\n",
    "from gtfparse import read_gtf\n",
    "import matplotlib.pyplot as plt"
   ]
  },
  {
   "cell_type": "code",
   "execution_count": null,
   "metadata": {},
   "outputs": [],
   "source": [
    "#read all files\n",
    "df_nongenes = pd.read_csv(\"/home/dbeb/btech/bb1160039/scratch/project/rmmulti/counts_non_genes_heart_10k_rmmulti.csv\", index_col=0)\n",
    "df_gtf = read_gtf(\"/home/dbeb/btech/bb1160039/scratch/project/mouse_gencode.vM25.chr_patch_hapl_scaff.annotation.gtf\")"
   ]
  },
  {
   "cell_type": "code",
   "execution_count": 3,
   "metadata": {},
   "outputs": [
    {
     "data": {
      "text/plain": [
       "+--------------+-----------+-----------+--------------------+\n",
       "| Chromosome   | Start     | End       | Name               |\n",
       "| (category)   | (int32)   | (int32)   | (object)           |\n",
       "|--------------+-----------+-----------+--------------------|\n",
       "| chr1         | 10007465  | 10007556  | gene-1-10007465-91 |\n",
       "| chr1         | 10015395  | 10015486  | gene-1-10015395-91 |\n",
       "| chr1         | 10015447  | 10015538  | gene-1-10015447-91 |\n",
       "| chr1         | 10015499  | 10015590  | gene-1-10015499-91 |\n",
       "| ...          | ...       | ...       | ...                |\n",
       "| chrY         | 9374068   | 9374147   | gene-Y-9374068-79  |\n",
       "| chrY         | 9374068   | 9374148   | gene-Y-9374068-80  |\n",
       "| chrY         | 9411927   | 9411990   | gene-Y-9411927-63  |\n",
       "| chrY         | 979436    | 979527    | gene-Y-979436-91   |\n",
       "+--------------+-----------+-----------+--------------------+\n",
       "Unstranded PyRanges object has 506,787 rows and 4 columns from 21 chromosomes.\n",
       "For printing, the PyRanges was sorted on Chromosome."
      ]
     },
     "execution_count": 3,
     "metadata": {},
     "output_type": "execute_result"
    }
   ],
   "source": [
    "#creating pyranges object for non-genes\n",
    "l_se_name = []\n",
    "l_se_chr = []\n",
    "l_se_start = []\n",
    "l_se_end = []\n",
    "for x in df_nongenes.index:\n",
    "    l_se_name.append(x)\n",
    "    l_se_chr.append(\"chr\"+x.split(\"-\")[1])\n",
    "    l_se_start.append(x.split(\"-\")[2])\n",
    "    l_se_end.append(str(int(x.split(\"-\")[2])+int(x.split(\"-\")[3])))\n",
    "    \n",
    "dict_ngenes= {\"Chromosome\":l_se_chr,\"Start\": l_se_start,\"End\": l_se_end,\"Name\":l_se_name}\n",
    "py_ng=pyranges.from_dict(dict_ngenes)\n",
    "py_ng"
   ]
  },
  {
   "cell_type": "code",
   "execution_count": 4,
   "metadata": {},
   "outputs": [],
   "source": [
    "#creating pyranges object for genes\n",
    "df_genes = df_gtf[df_gtf[\"feature\"] == \"gene\"]"
   ]
  },
  {
   "cell_type": "code",
   "execution_count": 65,
   "metadata": {},
   "outputs": [],
   "source": [
    "gene_type=df_genes.gene_type.value_counts().index\n",
    "interval = [0,10,20,50,100,200,400,800,1600,3200,4800,6000,8000]\n",
    "overlaps_forward=[]\n",
    "overlaps_back=[]\n",
    "for gtype in gene_type:\n",
    "    df_type = df_genes[df_genes.gene_type==gtype]\n",
    "    for i in interval:\n",
    "        dict_type_forward ={\"Chromosome\":df_type.seqname,\"Start\":df_type.start+i,\"End\":df_type.end}\n",
    "        py_gg_forward = pyranges.from_dict(dict_type_forward)\n",
    "        overlap_forward=py_ng.count_overlaps(py_gg_forward).as_df()\n",
    "        overlaps_forward.append([str(gtype+\"-\"+str(i)),len(list(overlap_forward[overlap_forward.NumberOverlaps>0].Name))])\n",
    "        dict_type_back ={\"Chromosome\":df_type.seqname,\"Start\":df_type.start-i,\"End\":df_type.end}\n",
    "        py_gg_back = pyranges.from_dict(dict_type_back)\n",
    "        overlap_back=py_ng.count_overlaps(py_gg_back).as_df()\n",
    "        overlaps_back.append([str(gtype+\"-\"+str(i)),len(list(overlap_back[overlap_back.NumberOverlaps>0].Name))])"
   ]
  },
  {
   "cell_type": "code",
   "execution_count": 66,
   "metadata": {},
   "outputs": [],
   "source": [
    "ae = [element * len(interval) for element in list(range(0,len(gene_type)))]\n",
    "x_ax_for=[]\n",
    "y_ax_for=[]\n",
    "x_ax_back=[]\n",
    "y_ax_back=[]\n",
    "n_ax=[]\n",
    "for a in ae:\n",
    "    x1=[]\n",
    "    y1=[]\n",
    "    x2=[]\n",
    "    y2=[]\n",
    "    for i in range(a,a+11):\n",
    "        x1.append(-int(overlaps_back[i][0].split(\"-\")[1]))\n",
    "        y1.append(int(overlaps_back[i][1]))\n",
    "        x2.append(int(overlaps_forward[i][0].split(\"-\")[1]))\n",
    "        y2.append(int(overlaps_forward[i][1]))\n",
    "    x_ax_for.append(x1)\n",
    "    y_ax_for.append(y1)\n",
    "    x_ax_back.append(x2)\n",
    "    y_ax_back.append(y2)\n",
    "    n_ax.append(overlaps_back[a][0].split(\"-\")[0])"
   ]
  },
  {
   "cell_type": "code",
   "execution_count": 67,
   "metadata": {},
   "outputs": [],
   "source": [
    "import colorsys\n",
    "N = len(n_ax)\n",
    "HSV_tuples = [(x*1.0/N, 0.5, 0.5) for x in range(N)]\n",
    "RGB_tuples = list(map(lambda x: colorsys.hsv_to_rgb(*x), HSV_tuples))"
   ]
  },
  {
   "cell_type": "code",
   "execution_count": 60,
   "metadata": {
    "collapsed": true
   },
   "outputs": [
    {
     "data": {
      "text/plain": [
       "[(0.0, 0.5, 0.5),\n",
       " (0.021739130434782608, 0.5, 0.5),\n",
       " (0.043478260869565216, 0.5, 0.5),\n",
       " (0.06521739130434782, 0.5, 0.5),\n",
       " (0.08695652173913043, 0.5, 0.5),\n",
       " (0.10869565217391304, 0.5, 0.5),\n",
       " (0.13043478260869565, 0.5, 0.5),\n",
       " (0.15217391304347827, 0.5, 0.5),\n",
       " (0.17391304347826086, 0.5, 0.5),\n",
       " (0.1956521739130435, 0.5, 0.5),\n",
       " (0.21739130434782608, 0.5, 0.5),\n",
       " (0.2391304347826087, 0.5, 0.5),\n",
       " (0.2608695652173913, 0.5, 0.5),\n",
       " (0.2826086956521739, 0.5, 0.5),\n",
       " (0.30434782608695654, 0.5, 0.5),\n",
       " (0.32608695652173914, 0.5, 0.5),\n",
       " (0.34782608695652173, 0.5, 0.5),\n",
       " (0.3695652173913043, 0.5, 0.5),\n",
       " (0.391304347826087, 0.5, 0.5),\n",
       " (0.41304347826086957, 0.5, 0.5),\n",
       " (0.43478260869565216, 0.5, 0.5),\n",
       " (0.45652173913043476, 0.5, 0.5),\n",
       " (0.4782608695652174, 0.5, 0.5),\n",
       " (0.5, 0.5, 0.5),\n",
       " (0.5217391304347826, 0.5, 0.5),\n",
       " (0.5434782608695652, 0.5, 0.5),\n",
       " (0.5652173913043478, 0.5, 0.5),\n",
       " (0.5869565217391305, 0.5, 0.5),\n",
       " (0.6086956521739131, 0.5, 0.5),\n",
       " (0.6304347826086957, 0.5, 0.5),\n",
       " (0.6521739130434783, 0.5, 0.5),\n",
       " (0.6739130434782609, 0.5, 0.5),\n",
       " (0.6956521739130435, 0.5, 0.5),\n",
       " (0.717391304347826, 0.5, 0.5),\n",
       " (0.7391304347826086, 0.5, 0.5),\n",
       " (0.7608695652173914, 0.5, 0.5),\n",
       " (0.782608695652174, 0.5, 0.5),\n",
       " (0.8043478260869565, 0.5, 0.5),\n",
       " (0.8260869565217391, 0.5, 0.5),\n",
       " (0.8478260869565217, 0.5, 0.5),\n",
       " (0.8695652173913043, 0.5, 0.5),\n",
       " (0.8913043478260869, 0.5, 0.5),\n",
       " (0.9130434782608695, 0.5, 0.5),\n",
       " (0.9347826086956522, 0.5, 0.5),\n",
       " (0.9565217391304348, 0.5, 0.5),\n",
       " (0.9782608695652174, 0.5, 0.5)]"
      ]
     },
     "execution_count": 60,
     "metadata": {},
     "output_type": "execute_result"
    }
   ],
   "source": [
    "HSV_tuples"
   ]
  },
  {
   "cell_type": "code",
   "execution_count": 68,
   "metadata": {},
   "outputs": [
    {
     "data": {
      "image/png": "[encoded data removed]",
      "text/plain": [
       "<Figure size 432x288 with 1 Axes>"
      ]
     },
     "metadata": {
      "needs_background": "light"
     },
     "output_type": "display_data"
    }
   ],
   "source": [
    "# plt.plot(x_ax[0],y_ax[0])\n",
    "for i in range(1,len(n_ax)):\n",
    "    plt.plot(x_ax_for[i],y_ax_for[i],label=n_ax[i],linestyle='--', marker='o', color=RGB_tuples[i])\n",
    "    plt.plot(x_ax_back[i],y_ax_back[i],label=n_ax[i],linestyle='--', marker='o', color=RGB_tuples[i])\n",
    "# plt.plot(x_ax[2],y_ax[2],label=n_ax[2],linestyle='--', marker='o')\n",
    "# plt.plot(x_ax[3],y_ax[3],label=n_ax[3],linestyle='--', marker='o')\n",
    "# plt.plot(x_ax[4],y_ax[4],label=n_ax[4],linestyle='--', marker='o')\n",
    "# plt.plot(x_ax[5],y_ax[5],label=n_ax[5],linestyle='--', marker='o')\n",
    "# plt.plot(x_ax[6],y_ax[6],label=n_ax[6],linestyle='--', marker='o')\n",
    "# plt.plot(x_ax[7],y_ax[7],label=n_ax[7],linestyle='--', marker='o')\n",
    "# plt.plot(x_ax[8],y_ax[8],label=n_ax[8],linestyle='--', marker='o')\n",
    "# plt.plot(x_ax[9],y_ax[9],label=n_ax[9],linestyle='--', marker='o')\n",
    "# plt.plot(x_ax[10],y_ax[10],label=n_ax[10],linestyle='--', marker='o')\n",
    "# plt.plot(x_ax[11],y_ax[11],label=n_ax[11],linestyle='--', marker='o')\n",
    "# plt.plot(x_ax[12],y_ax[12],label=n_ax[12],linestyle='--', marker='o')\n",
    "# plt.legend(loc=1)"
   ]
  },
  {
   "cell_type": "code",
   "execution_count": 7,
   "metadata": {},
   "outputs": [],
   "source": [
    "# Check overlap intervals\n",
    "dict_genes={\"Chromosome\":df_genes.seqname,\"Start\":df_genes.start,\"End\":df_genes.end}\n",
    "py_gg = pyranges.from_dict(dict_genes)\n",
    "py_gg\n",
    "overlaps=py_ng.count_overlaps(py_gg).as_df()"
   ]
  },
  {
   "cell_type": "code",
   "execution_count": 97,
   "metadata": {},
   "outputs": [],
   "source": [
    "chr1_coexp = list(overlaps[overlaps.NumberOverlaps>0].Name)"
   ]
  },
  {
   "cell_type": "code",
   "execution_count": 84,
   "metadata": {},
   "outputs": [],
   "source": [
    "markers = pd.read_csv(\"marker_neurons.csv\", header=None, names=[\"genes\"])"
   ]
  },
  {
   "cell_type": "code",
   "execution_count": 99,
   "metadata": {},
   "outputs": [],
   "source": [
    "com=set(chr1_coexp).intersection(markers.genes)"
   ]
  },
  {
   "cell_type": "code",
   "execution_count": 100,
   "metadata": {},
   "outputs": [],
   "source": [
    "chrs=[]\n",
    "for x in com:\n",
    "    chrs.append(x.split(\"-\")[1])"
   ]
  },
  {
   "cell_type": "code",
   "execution_count": 101,
   "metadata": {},
   "outputs": [],
   "source": [
    "heights=list(pd.DataFrame(chrs, columns=[\"chr\"]).chr.value_counts())\n",
    "labels=pd.DataFrame(chrs, columns=[\"chr\"]).chr.value_counts().index"
   ]
  },
  {
   "cell_type": "code",
   "execution_count": 102,
   "metadata": {},
   "outputs": [
    {
     "data": {
      "text/plain": [
       "<BarContainer object of 20 artists>"
      ]
     },
     "execution_count": 102,
     "metadata": {},
     "output_type": "execute_result"
    },
    {
     "data": {
      "image/png": "[encoded data removed]",
      "text/plain": [
       "<Figure size 432x288 with 1 Axes>"
      ]
     },
     "metadata": {
      "needs_background": "light"
     },
     "output_type": "display_data"
    }
   ],
   "source": [
    "plt.bar(x=labels, height=heights)"
   ]
  },
  {
   "cell_type": "code",
   "execution_count": 103,
   "metadata": {},
   "outputs": [
    {
     "data": {
      "text/plain": [
       "1223"
      ]
     },
     "execution_count": 103,
     "metadata": {},
     "output_type": "execute_result"
    }
   ],
   "source": [
    "len(chrs)"
   ]
  },
  {
   "cell_type": "code",
   "execution_count": null,
   "metadata": {},
   "outputs": [],
   "source": [
    "f=open('f1.txt','w')\n",
    "for ele in l1:\n",
    "    f.write(ele+'\\n')"
   ]
  }
 ],
 "metadata": {
  "kernelspec": {
   "display_name": "Python 3",
   "language": "python",
   "name": "python3"
  },
  "language_info": {
   "codemirror_mode": {
    "name": "ipython",
    "version": 3
   },
   "file_extension": ".py",
   "mimetype": "text/x-python",
   "name": "python",
   "nbconvert_exporter": "python",
   "pygments_lexer": "ipython3",
   "version": "3.6.7"
  }
 },
 "nbformat": 4,
 "nbformat_minor": 4
}
