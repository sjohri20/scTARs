{
 "cells": [
  {
   "cell_type": "code",
   "execution_count": 1,
   "metadata": {},
   "outputs": [],
   "source": [
    "import pysam\n",
    "import pandas as pd\n",
    "from tqdm.auto import tqdm\n",
    "import numpy as np\n",
    "import itertools"
   ]
  },
  {
   "cell_type": "code",
   "execution_count": 6,
   "metadata": {},
   "outputs": [],
   "source": [
    "bam_file = \"/home/dbeb/btech/bb1160039/scratch/project/Datasets/Human PBMC/pbmc_10k_protein_v3_possorted_genome_bam.bam\"\n",
    "bai_file = \"/home/dbeb/btech/bb1160039/scratch/project/Datasets/Human PBMC/pbmc_10k_protein_v3_possorted_genome_bam.bam.bai\""
   ]
  },
  {
   "cell_type": "code",
   "execution_count": 7,
   "metadata": {},
   "outputs": [],
   "source": [
    "samf = pysam.Samfile(bam_file, \"rb\")\n",
    "replicon_dict = dict([[replicon, {'seq_start_pos': 0,'seq_end_pos': length}] for replicon, length in zip(samf.references, samf.lengths)])"
   ]
  },
  {
   "cell_type": "code",
   "execution_count": 8,
   "metadata": {},
   "outputs": [
    {
     "name": "stdout",
     "output_type": "stream",
     "text": [
      "0\n",
      "248956422\n"
     ]
    }
   ],
   "source": [
    "print(replicon_dict['1']['seq_start_pos'])\n",
    "print(replicon_dict['1']['seq_end_pos'])"
   ]
  },
  {
   "cell_type": "code",
   "execution_count": 9,
   "metadata": {},
   "outputs": [],
   "source": [
    "samfile = pysam.AlignmentFile(bam_file, \"rb\", index_filename = bai_file)"
   ]
  },
  {
   "cell_type": "code",
   "execution_count": 10,
   "metadata": {},
   "outputs": [
    {
     "data": {
      "application/vnd.jupyter.widget-view+json": {
       "model_id": "558efb8daa3b43f09a6e2132ee3566ac",
       "version_major": 2,
       "version_minor": 0
      },
      "text/plain": [
       "HBox(children=(FloatProgress(value=0.0, max=24.0), HTML(value='')))"
      ]
     },
     "metadata": {},
     "output_type": "display_data"
    },
    {
     "name": "stdout",
     "output_type": "stream",
     "text": [
      "\n"
     ]
    }
   ],
   "source": [
    "#read all non-genes\n",
    "x=['1','2','3','4','5','6','7','8','9','10','11','12','13','14','15','16','17','18','19','20','21','22','X','Y']\n",
    "list_tags_all = []\n",
    "\n",
    "for i in tqdm(range(0,len(x))):\n",
    "    for read in samfile.fetch(x[i]):\n",
    "        try:\n",
    "            if (read.has_tag(\"GX\")==False and read.get_tag(\"NH\")==1):\n",
    "                list_tags_all.append([read.get_tag(\"CB\"),read.get_tag(\"UB\"),\"gene\" + \"-\" + str(read.reference_name) + \"-\" +str(read.get_reference_positions()[0])+'-'+ str(read.get_reference_positions()[-1])])\n",
    "        except KeyError:\n",
    "            continue"
   ]
  },
  {
   "cell_type": "code",
   "execution_count": 11,
   "metadata": {},
   "outputs": [
    {
     "name": "stdout",
     "output_type": "stream",
     "text": [
      "CPU times: user 16.9 s, sys: 5.15 s, total: 22.1 s\n",
      "Wall time: 22.2 s\n"
     ]
    }
   ],
   "source": [
    "%%time\n",
    "list_tags_all_rm_dup = list(list_tags_all for list_tags_all,_ in itertools.groupby(list_tags_all))"
   ]
  },
  {
   "cell_type": "code",
   "execution_count": 12,
   "metadata": {},
   "outputs": [
    {
     "name": "stdout",
     "output_type": "stream",
     "text": [
      "90108371\n",
      "72662073\n"
     ]
    }
   ],
   "source": [
    "print(len(list_tags_all))\n",
    "print(len(list_tags_all_rm_dup))"
   ]
  },
  {
   "cell_type": "code",
   "execution_count": 13,
   "metadata": {},
   "outputs": [
    {
     "data": {
      "application/vnd.jupyter.widget-view+json": {
       "model_id": "b8d41024c3674312bb927733fe9e69a6",
       "version_major": 2,
       "version_minor": 0
      },
      "text/plain": [
       "HBox(children=(FloatProgress(value=0.0, max=72662072.0), HTML(value='')))"
      ]
     },
     "metadata": {},
     "output_type": "display_data"
    },
    {
     "name": "stdout",
     "output_type": "stream",
     "text": [
      "\n"
     ]
    }
   ],
   "source": [
    "start=0\n",
    "val=int(list_tags_all_rm_dup[start][2].split(\"-\")[2])\n",
    "collapse_len = 300\n",
    "\n",
    "for i in tqdm(range(1,len(list_tags_all_rm_dup))):\n",
    "    if (int(list_tags_rm_dup[i][2].split(\"-\")[2]) - val>collapse_len):\n",
    "        if (i-start>1):\n",
    "            #update the inner elements\n",
    "            s=list_tags_rm_dup[start][2].split(\"-\")\n",
    "            t=list_tags_rm_dup[i-1][2].split(\"-\")\n",
    "            new=s[0]+\"-\"+s[1]+\"-\"+s[2]+\"-\"+str(int(t[3]))\n",
    "            for inner in list_tags_all_rm_dup[start:i]:\n",
    "                inner[2] = new\n",
    "        #update start to point to this pos\n",
    "        start = i\n",
    "        #update val to the val at this pos\n",
    "        val = int(list_tags_all_rm_dup[i][2].split(\"-\")[2])"
   ]
  },
  {
   "cell_type": "code",
   "execution_count": 14,
   "metadata": {},
   "outputs": [
    {
     "name": "stdout",
     "output_type": "stream",
     "text": [
      "CPU times: user 14.3 s, sys: 3.22 s, total: 17.6 s\n",
      "Wall time: 17.6 s\n"
     ]
    }
   ],
   "source": [
    "%%time\n",
    "list_tags_all_rm_dup_final = list(list_tags_all_rm_dup for list_tags_all_rm_dup,_ in itertools.groupby(list_tags_all_rm_dup))"
   ]
  },
  {
   "cell_type": "code",
   "execution_count": 16,
   "metadata": {},
   "outputs": [
    {
     "data": {
      "text/plain": [
       "72249188"
      ]
     },
     "execution_count": 16,
     "metadata": {},
     "output_type": "execute_result"
    }
   ],
   "source": [
    "n=len(list_tags_all_rm_dup_final)\n",
    "n"
   ]
  },
  {
   "cell_type": "code",
   "execution_count": 12,
   "metadata": {},
   "outputs": [
    {
     "name": "stdout",
     "output_type": "stream",
     "text": [
      "CPU times: user 48.8 s, sys: 48.9 s, total: 1min 37s\n",
      "Wall time: 9min 55s\n"
     ]
    }
   ],
   "source": [
    "%%time\n",
    "bins = 20\n",
    "df_all = []\n",
    "for i in range(bins):\n",
    "    df_all.append(pd.DataFrame(list_tags_rm_dup_final[:int(n/bins)], columns=[\"celltag\",\"moltag\",\"pseudoname\"]))"
   ]
  },
  {
   "cell_type": "code",
   "execution_count": 13,
   "metadata": {},
   "outputs": [
    {
     "name": "stdout",
     "output_type": "stream",
     "text": [
      "CPU times: user 1min 48s, sys: 10.1 s, total: 1min 58s\n",
      "Wall time: 2min 1s\n"
     ]
    }
   ],
   "source": [
    "%%time\n",
    "celltags = []\n",
    "pseudonames = []\n",
    "for i in range(bins):\n",
    "    celltags.append(df_all[i]['celltag'].value_counts())\n",
    "    pseudonames.append(df_all[i]['pseudoname'].value_counts())"
   ]
  },
  {
   "cell_type": "code",
   "execution_count": 14,
   "metadata": {},
   "outputs": [
    {
     "name": "stdout",
     "output_type": "stream",
     "text": [
      "CPU times: user 9 µs, sys: 1e+03 ns, total: 10 µs\n",
      "Wall time: 13.8 µs\n"
     ]
    }
   ],
   "source": [
    "%time\n",
    "df_all_subset = []\n",
    "cutoff = 0\n",
    "for i in range(bins):\n",
    "    temp = df_all[i][(df_all[i][\"celltag\"].isin(celltags[i][celltags[i]>cutoff].index)) & \n",
    "                     (df_all[i][\"pseudoname\"].isin(pseudonames[i][pseudonames[i]>0].index))]\n",
    "    df_all_subset.append(temp)"
   ]
  },
  {
   "cell_type": "code",
   "execution_count": 15,
   "metadata": {},
   "outputs": [
    {
     "name": "stdout",
     "output_type": "stream",
     "text": [
      "CPU times: user 27.1 s, sys: 2min 22s, total: 2min 49s\n",
      "Wall time: 7min 47s\n"
     ]
    }
   ],
   "source": [
    "%%time\n",
    "counts_list = []\n",
    "for i in range(bins):\n",
    "    counts_list.append(df_all_subset[i].groupby(['pseudoname','celltag']).size().unstack('celltag', fill_value=0))"
   ]
  },
  {
   "cell_type": "code",
   "execution_count": 16,
   "metadata": {},
   "outputs": [],
   "source": [
    "counts_list_columns = [counts_list[i].columns for i in range(bins)]\n",
    "cell_bcode= sorted(set(counts_list_columns[0]).intersection(*counts_list_columns))"
   ]
  },
  {
   "cell_type": "code",
   "execution_count": 17,
   "metadata": {},
   "outputs": [
    {
     "data": {
      "text/plain": [
       "7996"
      ]
     },
     "execution_count": 17,
     "metadata": {},
     "output_type": "execute_result"
    }
   ],
   "source": [
    "len(cell_bcode)"
   ]
  },
  {
   "cell_type": "code",
   "execution_count": 18,
   "metadata": {},
   "outputs": [
    {
     "name": "stdout",
     "output_type": "stream",
     "text": [
      "CPU times: user 16.2 s, sys: 1min 2s, total: 1min 18s\n",
      "Wall time: 2min 28s\n"
     ]
    }
   ],
   "source": [
    "%%time\n",
    "for i in range(bins):\n",
    "    counts_list[i] = counts_list[i][cell_bcode]"
   ]
  },
  {
   "cell_type": "code",
   "execution_count": null,
   "metadata": {},
   "outputs": [],
   "source": [
    "%%time\n",
    "counts_df = pd.concat(counts_list)"
   ]
  },
  {
   "cell_type": "code",
   "execution_count": null,
   "metadata": {},
   "outputs": [],
   "source": [
    "counts_df_final=counts_df.groupby(level=0, axis=0).sum()"
   ]
  },
  {
   "cell_type": "code",
   "execution_count": null,
   "metadata": {},
   "outputs": [],
   "source": []
  }
 ],
 "metadata": {
  "kernelspec": {
   "display_name": "Python 3",
   "language": "python",
   "name": "python3"
  },
  "language_info": {
   "codemirror_mode": {
    "name": "ipython",
    "version": 3
   },
   "file_extension": ".py",
   "mimetype": "text/x-python",
   "name": "python",
   "nbconvert_exporter": "python",
   "pygments_lexer": "ipython3",
   "version": "3.7.6"
  }
 },
 "nbformat": 4,
 "nbformat_minor": 4
}
